{
 "cells": [
  {
   "cell_type": "markdown",
   "metadata": {
    "application/vnd.databricks.v1+cell": {
     "cellMetadata": {},
     "inputWidgets": {},
     "nuid": "2f507685-831b-4bb3-889c-e3741869fe1e",
     "showTitle": false,
     "tableResultSettingsMap": {},
     "title": ""
    }
   },
   "source": [
    "### Databricks DLT Pipeline Code\n",
    "\n",
    "This notebook contains the DLT pipeline code for creating bronze tables in PYTHON.\n",
    "\n",
    "Look for `<CHANGE_HERE: ...>` placeholders in the code and replace them with your values. Detailed instructions follow below.\n",
    "\n",
    "#### Table Naming Instructions\n",
    "Before running the code, you need to specify where your tables will be stored. You can use any of these three formats:\n",
    "\n",
    "1. Three level catalog.schema.table format:\n",
    "   - Replace `<CHANGE_HERE: catalog>.<CHANGE_HERE: schema>` with your Unity Catalog and schema names\n",
    "   - Example: `unity_catalog.my_schema.table_name`\n",
    "\n",
    "2. Two level schema.table format:\n",
    "   - Replace `<CHANGE_HERE: schema>` with your schema name\n",
    "   - The default catalog will be used\n",
    "   - Example: `my_schema.table_name`\n",
    "\n",
    "3. Simple table name format:\n",
    "   - Use just the table name\n",
    "   - Both default catalog and schema will be used\n",
    "   - Example: `table_name`\n",
    "\n",
    "#### Table Documentation and Configuration\n",
    "For each table in the code:\n",
    "\n",
    "1. Table Comments:\n",
    "   - Replace `<CHANGE_HERE: enter_table_comment>` with a descriptive comment about the table's purpose and contents\n",
    "   - Example: \"Bronze table containing raw customer transaction data\"\n",
    "\n",
    "2. For Change Feed Tables:\n",
    "   - Replace `<CHANGE_HERE: 1/2>` with either 1 or 2 to specify the SCD (Slowly Changing Dimension) type:\n",
    "     - Type 1: Overwrites the old value with the new value\n",
    "     - Type 2: Maintains history by creating new records for each change\n",
    "\n",
    "#### Learn More\n",
    "- [Streaming Tables Documentation](https://docs.databricks.com/aws/en/dlt/streaming-tables) - Learn about streaming tables and their use cases for data ingestion and low-latency streaming transformations.\n",
    "- [Materialized Views Documentation](https://docs.databricks.com/aws/en/dlt/materialized-views) - Understand how materialized views work and their benefits for incremental data processing."
   ]
  },
  {
   "cell_type": "markdown",
   "metadata": {
    "application/vnd.databricks.v1+cell": {
     "cellMetadata": {},
     "inputWidgets": {},
     "nuid": "1a14f27e-4dd0-47b3-a6cd-bf4b7120c719",
     "showTitle": false,
     "tableResultSettingsMap": {},
     "title": ""
    }
   },
   "source": [
    "#### Table: valve_compliance_changes"
   ]
  },
  {
   "cell_type": "code",
   "execution_count": 0,
   "metadata": {
    "application/vnd.databricks.v1+cell": {
     "cellMetadata": {},
     "inputWidgets": {},
     "nuid": "627a2793-3fb6-4f44-b9fe-f42ffa9b90c5",
     "showTitle": false,
     "tableResultSettingsMap": {},
     "title": ""
    }
   },
   "outputs": [],
   "source": [
    "@dlt.table(name=\"bronze.valve_compliance_changes\")\n",
    "def source():\n",
    "    return (spark.readStream\n",
    "        .format(\"cloudFiles\")\n",
    "        .option(\"cloudFiles.format\", \"csv\")\n",
    "        .option(\"cloudFiles.inferColumnTypes\", \"true\")\n",
    "        .option(\"multiLine\", \"true\")\n",
    "        .load(\"/Volumes/harrison_chen_catalog/synthetic_energy/energy_volume/Gas_Emissions/valve_compliance_changes/\")\n",
    "    )\n",
    "\n",
    "dlt.create_streaming_table(\n",
    "    name=\"silver.valve_compliance_changes\",\n",
    "    comment=\"<CHANGE_HERE: enter_table_comment>\"\n",
    ")\n",
    "\n",
    "dlt.apply_changes(\n",
    "    target=\"silver.valve_compliance_changes\",\n",
    "    source=\"bronze.valve_compliance_changes\",\n",
    "    keys=['valve_id', 'asset_id'],\n",
    "    sequence_by=\"change_timestamp\",\n",
    "    stored_as_scd_type=\"2\"\n",
    ")\n"
   ]
  },
  {
   "cell_type": "markdown",
   "metadata": {
    "application/vnd.databricks.v1+cell": {
     "cellMetadata": {},
     "inputWidgets": {},
     "nuid": "b8fd0826-ce7e-451b-8080-1312885eedd1",
     "showTitle": false,
     "tableResultSettingsMap": {},
     "title": ""
    }
   },
   "source": [
    "#### Table: asset_config_changes"
   ]
  },
  {
   "cell_type": "code",
   "execution_count": 0,
   "metadata": {
    "application/vnd.databricks.v1+cell": {
     "cellMetadata": {},
     "inputWidgets": {},
     "nuid": "18475888-1feb-44f0-93d2-82f482c12f0d",
     "showTitle": false,
     "tableResultSettingsMap": {},
     "title": ""
    }
   },
   "outputs": [],
   "source": [
    "@dlt.table(name=\"bronze.asset_config_changes\")\n",
    "def source():\n",
    "    return (spark.readStream\n",
    "        .format(\"cloudFiles\")\n",
    "        .option(\"cloudFiles.format\", \"csv\")\n",
    "        .option(\"cloudFiles.inferColumnTypes\", \"true\")\n",
    "        .option(\"multiLine\", \"true\")\n",
    "        .load(\"/Volumes/harrison_chen_catalog/synthetic_energy/energy_volume/Gas_Emissions/asset_config_changes/\")\n",
    "    )\n",
    "\n",
    "dlt.create_streaming_table(\n",
    "    name=\"silver.asset_config_changes\",\n",
    "    comment=\"<CHANGE_HERE: enter_table_comment>\"\n",
    ")\n",
    "\n",
    "dlt.apply_changes(\n",
    "    target=\"silver.asset_config_changes\",\n",
    "    source=\"bronze.asset_config_changes\",\n",
    "    keys=['config_id', 'asset_id'],\n",
    "    sequence_by=\"change_timestamp\",\n",
    "    stored_as_scd_type=\"2\"\n",
    ")\n"
   ]
  },
  {
   "cell_type": "markdown",
   "metadata": {
    "application/vnd.databricks.v1+cell": {
     "cellMetadata": {},
     "inputWidgets": {},
     "nuid": "bed12697-81e8-4de1-b69a-106b050f1cf5",
     "showTitle": false,
     "tableResultSettingsMap": {},
     "title": ""
    }
   },
   "source": [
    "#### Table: calibration_records"
   ]
  },
  {
   "cell_type": "code",
   "execution_count": 0,
   "metadata": {
    "application/vnd.databricks.v1+cell": {
     "cellMetadata": {},
     "inputWidgets": {},
     "nuid": "951f9fa6-6ea3-41f2-8229-9df1efa10a96",
     "showTitle": false,
     "tableResultSettingsMap": {},
     "title": ""
    }
   },
   "outputs": [],
   "source": [
    "@dlt.table(name=\"bronze.calibration_records\")\n",
    "def calibration_records_bronze():\n",
    "    return (spark.readStream\n",
    "        .format(\"cloudFiles\")\n",
    "        .option(\"cloudFiles.format\", \"csv\")\n",
    "        .option(\"cloudFiles.inferColumnTypes\", \"true\")\n",
    "        .option(\"multiLine\", \"true\")\n",
    "        .load(\"/Volumes/harrison_chen_catalog/synthetic_energy/energy_volume/Gas_Emissions/calibration_records/\")\n",
    "    )\n",
    "\n",
    "@dlt.table(name=\"silver.calibration_records\")\n",
    "@dlt.expect(\"valid_drift_percentage\", \"drift_percentage BETWEEN 0 AND 100\")\n",
    "def calibration_records_silver():\n",
    "    return spark.readStream.table(\"bronze.calibration_records\")\n"
   ]
  },
  {
   "cell_type": "markdown",
   "metadata": {
    "application/vnd.databricks.v1+cell": {
     "cellMetadata": {},
     "inputWidgets": {},
     "nuid": "afba7ba0-9e65-48c5-924b-f43d1990bcc9",
     "showTitle": false,
     "tableResultSettingsMap": {},
     "title": ""
    }
   },
   "source": [
    "#### Table: inspectors"
   ]
  },
  {
   "cell_type": "code",
   "execution_count": 0,
   "metadata": {
    "application/vnd.databricks.v1+cell": {
     "cellMetadata": {},
     "inputWidgets": {},
     "nuid": "2fe80ce1-33b8-419a-9ab0-54d746af8ed0",
     "showTitle": false,
     "tableResultSettingsMap": {},
     "title": ""
    }
   },
   "outputs": [],
   "source": [
    "@dlt.table(name=\"bronze.inspectors\")\n",
    "def inspectors_bronze():\n",
    "    return (spark.readStream\n",
    "        .format(\"cloudFiles\")\n",
    "        .option(\"cloudFiles.format\", \"csv\")\n",
    "        .option(\"cloudFiles.inferColumnTypes\", \"true\")\n",
    "        .option(\"multiLine\", \"true\")\n",
    "        .load(\"/Volumes/harrison_chen_catalog/synthetic_energy/energy_volume/Gas_Emissions/inspectors/\")\n",
    "    )\n",
    "\n",
    "@dlt.table(name=\"silver.inspectors\")\n",
    "\n",
    "def inspectors_silver():\n",
    "    return spark.readStream.table(\"bronze.inspectors\")\n"
   ]
  },
  {
   "cell_type": "markdown",
   "metadata": {
    "application/vnd.databricks.v1+cell": {
     "cellMetadata": {},
     "inputWidgets": {},
     "nuid": "938449a0-c5a7-47e2-b42f-49ef4d592cd0",
     "showTitle": false,
     "tableResultSettingsMap": {},
     "title": ""
    }
   },
   "source": [
    "#### Table: shift_schedule"
   ]
  },
  {
   "cell_type": "code",
   "execution_count": 0,
   "metadata": {
    "application/vnd.databricks.v1+cell": {
     "cellMetadata": {},
     "inputWidgets": {},
     "nuid": "71676613-9a8b-480e-8b69-511ef8b8865b",
     "showTitle": false,
     "tableResultSettingsMap": {},
     "title": ""
    }
   },
   "outputs": [],
   "source": [
    "@dlt.table(name=\"bronze.shift_schedule\")\n",
    "def shift_schedule_bronze():\n",
    "    return (spark.readStream\n",
    "        .format(\"cloudFiles\")\n",
    "        .option(\"cloudFiles.format\", \"csv\")\n",
    "        .option(\"cloudFiles.inferColumnTypes\", \"true\")\n",
    "        .option(\"multiLine\", \"true\")\n",
    "        .load(\"/Volumes/harrison_chen_catalog/synthetic_energy/energy_volume/Gas_Emissions/shift_schedule/\")\n",
    "    )\n",
    "\n",
    "@dlt.table(name=\"silver.shift_schedule\")\n",
    "\n",
    "def shift_schedule_silver():\n",
    "    return spark.readStream.table(\"bronze.shift_schedule\")\n"
   ]
  },
  {
   "cell_type": "markdown",
   "metadata": {
    "application/vnd.databricks.v1+cell": {
     "cellMetadata": {},
     "inputWidgets": {},
     "nuid": "2c0974fa-00ae-41d4-9c6b-06807fe11965",
     "showTitle": false,
     "tableResultSettingsMap": {},
     "title": ""
    }
   },
   "source": [
    "#### Table: site_info"
   ]
  },
  {
   "cell_type": "code",
   "execution_count": 0,
   "metadata": {
    "application/vnd.databricks.v1+cell": {
     "cellMetadata": {},
     "inputWidgets": {},
     "nuid": "39ded5d8-50fa-4995-a324-2fb5fc28beeb",
     "showTitle": false,
     "tableResultSettingsMap": {},
     "title": ""
    }
   },
   "outputs": [],
   "source": [
    "@dlt.table(name=\"bronze.site_info\")\n",
    "def site_info_bronze():\n",
    "    return (spark.readStream\n",
    "        .format(\"cloudFiles\")\n",
    "        .option(\"cloudFiles.format\", \"csv\")\n",
    "        .option(\"cloudFiles.inferColumnTypes\", \"true\")\n",
    "        .option(\"multiLine\", \"true\")\n",
    "        .load(\"/Volumes/harrison_chen_catalog/synthetic_energy/energy_volume/Gas_Emissions/site_info/\")\n",
    "    )\n",
    "\n",
    "@dlt.table(name=\"silver.site_info\")\n",
    "\n",
    "def site_info_silver():\n",
    "    return spark.readStream.table(\"bronze.site_info\")\n"
   ]
  },
  {
   "cell_type": "markdown",
   "metadata": {
    "application/vnd.databricks.v1+cell": {
     "cellMetadata": {},
     "inputWidgets": {},
     "nuid": "9bcfd144-e1a4-41e4-86e1-f36c2040e75a",
     "showTitle": false,
     "tableResultSettingsMap": {},
     "title": ""
    }
   },
   "source": [
    "#### Table: daily_weather"
   ]
  },
  {
   "cell_type": "code",
   "execution_count": 0,
   "metadata": {
    "application/vnd.databricks.v1+cell": {
     "cellMetadata": {},
     "inputWidgets": {},
     "nuid": "49c884d4-96b8-4ab6-bc98-2a8ef7d4cf51",
     "showTitle": false,
     "tableResultSettingsMap": {},
     "title": ""
    }
   },
   "outputs": [],
   "source": [
    "@dlt.table(name=\"bronze.daily_weather\")\n",
    "def daily_weather_bronze():\n",
    "    return (spark.readStream\n",
    "        .format(\"cloudFiles\")\n",
    "        .option(\"cloudFiles.format\", \"csv\")\n",
    "        .option(\"cloudFiles.inferColumnTypes\", \"true\")\n",
    "        .option(\"multiLine\", \"true\")\n",
    "        .load(\"/Volumes/harrison_chen_catalog/synthetic_energy/energy_volume/Gas_Emissions/daily_weather/\")\n",
    "    )\n",
    "\n",
    "@dlt.table(name=\"silver.daily_weather\")\n",
    "@dlt.expect_or_drop(\"valid_temperature_celsius\", \"temperature_celsius BETWEEN -40 AND 50\")\n",
    "@dlt.expect_or_drop(\"valid_humidity_percentage\", \"humidity_percentage BETWEEN 0 AND 100\")\n",
    "@dlt.expect_or_drop(\"valid_date_range\", \"date >= '2020-01-01'\")\n",
    "def daily_weather_silver():\n",
    "    return spark.readStream.table(\"bronze.daily_weather\")\n"
   ]
  },
  {
   "cell_type": "markdown",
   "metadata": {
    "application/vnd.databricks.v1+cell": {
     "cellMetadata": {},
     "inputWidgets": {},
     "nuid": "d0a34959-8ff8-4b9b-87c3-71f3c747376b",
     "showTitle": false,
     "tableResultSettingsMap": {},
     "title": ""
    }
   },
   "source": [
    "#### Table: alert_history"
   ]
  },
  {
   "cell_type": "code",
   "execution_count": 0,
   "metadata": {
    "application/vnd.databricks.v1+cell": {
     "cellMetadata": {},
     "inputWidgets": {},
     "nuid": "531ec3b3-fc45-47f6-99a1-06a08f6846be",
     "showTitle": false,
     "tableResultSettingsMap": {},
     "title": ""
    }
   },
   "outputs": [],
   "source": [
    "@dlt.table(name=\"bronze.alert_history\")\n",
    "def alert_history_bronze():\n",
    "    return (spark.readStream\n",
    "        .format(\"cloudFiles\")\n",
    "        .option(\"cloudFiles.format\", \"csv\")\n",
    "        .option(\"cloudFiles.inferColumnTypes\", \"true\")\n",
    "        .option(\"multiLine\", \"true\")\n",
    "        .load(\"/Volumes/harrison_chen_catalog/synthetic_energy/energy_volume/Gas_Emissions/alert_history/\")\n",
    "    )\n",
    "\n",
    "@dlt.table(name=\"silver.alert_history\")\n",
    "@dlt.expect(\"valid_threshold_value\", \"threshold_value BETWEEN 0 AND 1000\")\n",
    "def alert_history_silver():\n",
    "    return spark.readStream.table(\"bronze.alert_history\")\n"
   ]
  },
  {
   "cell_type": "markdown",
   "metadata": {
    "application/vnd.databricks.v1+cell": {
     "cellMetadata": {},
     "inputWidgets": {},
     "nuid": "8f935547-6e6a-49f2-b343-d8df2843c86c",
     "showTitle": false,
     "tableResultSettingsMap": {},
     "title": ""
    }
   },
   "source": [
    "#### Table: asset"
   ]
  },
  {
   "cell_type": "code",
   "execution_count": 0,
   "metadata": {
    "application/vnd.databricks.v1+cell": {
     "cellMetadata": {},
     "inputWidgets": {},
     "nuid": "bc9d48a0-00ce-4005-a572-9e5b7c51f4e3",
     "showTitle": false,
     "tableResultSettingsMap": {},
     "title": ""
    }
   },
   "outputs": [],
   "source": [
    "@dlt.table(name=\"bronze.asset\")\n",
    "def asset_bronze():\n",
    "    return (spark.readStream\n",
    "        .format(\"cloudFiles\")\n",
    "        .option(\"cloudFiles.format\", \"csv\")\n",
    "        .option(\"cloudFiles.inferColumnTypes\", \"true\")\n",
    "        .option(\"multiLine\", \"true\")\n",
    "        .load(\"/Volumes/harrison_chen_catalog/synthetic_energy/energy_volume/Gas_Emissions/asset/\")\n",
    "    )\n",
    "\n",
    "@dlt.table(name=\"silver.asset\")\n",
    "\n",
    "def asset_silver():\n",
    "    return spark.readStream.table(\"bronze.asset\")\n"
   ]
  },
  {
   "cell_type": "markdown",
   "metadata": {
    "application/vnd.databricks.v1+cell": {
     "cellMetadata": {},
     "inputWidgets": {},
     "nuid": "ef5b70e0-6703-4b6e-b5cb-44f5ee58853e",
     "showTitle": false,
     "tableResultSettingsMap": {},
     "title": ""
    }
   },
   "source": [
    "#### Table: compliance_regulations"
   ]
  },
  {
   "cell_type": "code",
   "execution_count": 0,
   "metadata": {
    "application/vnd.databricks.v1+cell": {
     "cellMetadata": {},
     "inputWidgets": {},
     "nuid": "be2c78fb-e9fa-4c7f-95b8-2f0ca3867f11",
     "showTitle": false,
     "tableResultSettingsMap": {},
     "title": ""
    }
   },
   "outputs": [],
   "source": [
    "@dlt.table(name=\"bronze.compliance_regulations\")\n",
    "def compliance_regulations_bronze():\n",
    "    return (spark.readStream\n",
    "        .format(\"cloudFiles\")\n",
    "        .option(\"cloudFiles.format\", \"csv\")\n",
    "        .option(\"cloudFiles.inferColumnTypes\", \"true\")\n",
    "        .option(\"multiLine\", \"true\")\n",
    "        .load(\"/Volumes/harrison_chen_catalog/synthetic_energy/energy_volume/Gas_Emissions/compliance_regulations/\")\n",
    "    )\n",
    "\n",
    "@dlt.table(name=\"silver.compliance_regulations\")\n",
    "\n",
    "def compliance_regulations_silver():\n",
    "    return spark.readStream.table(\"bronze.compliance_regulations\")\n"
   ]
  },
  {
   "cell_type": "markdown",
   "metadata": {
    "application/vnd.databricks.v1+cell": {
     "cellMetadata": {},
     "inputWidgets": {},
     "nuid": "2d76a10e-3d39-43cf-92b3-f74611655e6b",
     "showTitle": false,
     "tableResultSettingsMap": {},
     "title": ""
    }
   },
   "source": [
    "#### Table: gas_production"
   ]
  },
  {
   "cell_type": "code",
   "execution_count": 0,
   "metadata": {
    "application/vnd.databricks.v1+cell": {
     "cellMetadata": {},
     "inputWidgets": {},
     "nuid": "15ea9f35-e415-4a29-abfe-de24bda74082",
     "showTitle": false,
     "tableResultSettingsMap": {},
     "title": ""
    }
   },
   "outputs": [],
   "source": [
    "@dlt.table(name=\"bronze.gas_production\")\n",
    "def gas_production_bronze():\n",
    "    return (spark.readStream\n",
    "        .format(\"cloudFiles\")\n",
    "        .option(\"cloudFiles.format\", \"csv\")\n",
    "        .option(\"cloudFiles.inferColumnTypes\", \"true\")\n",
    "        .option(\"multiLine\", \"true\")\n",
    "        .load(\"/Volumes/harrison_chen_catalog/synthetic_energy/energy_volume/Gas_Emissions/gas_production/\")\n",
    "    )\n",
    "\n",
    "@dlt.table(name=\"silver.gas_production\")\n",
    "@dlt.expect_or_drop(\"valid_gas_volume_m3\", \"gas_volume_m3 BETWEEN 0 AND 10000\")\n",
    "@dlt.expect_or_drop(\"valid_gas_pressure\", \"gas_pressure BETWEEN 0 AND 500\")\n",
    "def gas_production_silver():\n",
    "    return spark.readStream.table(\"bronze.gas_production\")\n"
   ]
  },
  {
   "cell_type": "markdown",
   "metadata": {
    "application/vnd.databricks.v1+cell": {
     "cellMetadata": {},
     "inputWidgets": {},
     "nuid": "ce0fc2c0-04bc-48be-bd3d-58afac9f882a",
     "showTitle": false,
     "tableResultSettingsMap": {},
     "title": ""
    }
   },
   "source": [
    "#### Table: maintenance_record"
   ]
  },
  {
   "cell_type": "code",
   "execution_count": 0,
   "metadata": {
    "application/vnd.databricks.v1+cell": {
     "cellMetadata": {},
     "inputWidgets": {},
     "nuid": "46dfffbc-8067-4c56-9b7d-31d39a7c23c4",
     "showTitle": false,
     "tableResultSettingsMap": {},
     "title": ""
    }
   },
   "outputs": [],
   "source": [
    "@dlt.table(name=\"bronze.maintenance_record\")\n",
    "def maintenance_record_bronze():\n",
    "    return (spark.readStream\n",
    "        .format(\"cloudFiles\")\n",
    "        .option(\"cloudFiles.format\", \"csv\")\n",
    "        .option(\"cloudFiles.inferColumnTypes\", \"true\")\n",
    "        .option(\"multiLine\", \"true\")\n",
    "        .load(\"/Volumes/harrison_chen_catalog/synthetic_energy/energy_volume/Gas_Emissions/maintenance_record/\")\n",
    "    )\n",
    "\n",
    "@dlt.table(name=\"silver.maintenance_record\")\n",
    "@dlt.expect_or_drop(\"valid_cost\", \"cost BETWEEN 0 AND 100000\")\n",
    "def maintenance_record_silver():\n",
    "    return spark.readStream.table(\"bronze.maintenance_record\")\n"
   ]
  },
  {
   "cell_type": "markdown",
   "metadata": {
    "application/vnd.databricks.v1+cell": {
     "cellMetadata": {},
     "inputWidgets": {},
     "nuid": "10750c6d-4d6c-4790-a1ca-1391bf192cf8",
     "showTitle": false,
     "tableResultSettingsMap": {},
     "title": ""
    }
   },
   "source": [
    "#### Table: sensor_emissions"
   ]
  },
  {
   "cell_type": "code",
   "execution_count": 0,
   "metadata": {
    "application/vnd.databricks.v1+cell": {
     "cellMetadata": {},
     "inputWidgets": {},
     "nuid": "90f60222-94c2-4efa-876f-961d88036f11",
     "showTitle": false,
     "tableResultSettingsMap": {},
     "title": ""
    }
   },
   "outputs": [],
   "source": [
    "@dlt.table(name=\"bronze.sensor_emissions\")\n",
    "def sensor_emissions_bronze():\n",
    "    return (spark.readStream\n",
    "        .format(\"cloudFiles\")\n",
    "        .option(\"cloudFiles.format\", \"csv\")\n",
    "        .option(\"cloudFiles.inferColumnTypes\", \"true\")\n",
    "        .option(\"multiLine\", \"true\")\n",
    "        .load(\"/Volumes/harrison_chen_catalog/synthetic_energy/energy_volume/Gas_Emissions/sensor_emissions/\")\n",
    "    )\n",
    "\n",
    "@dlt.table(name=\"silver.sensor_emissions\")\n",
    "@dlt.expect_or_drop(\"valid_methane_level\", \"methane_level BETWEEN 0 AND 1000\")\n",
    "@dlt.expect_or_drop(\"valid_co2_level\", \"co2_level BETWEEN 0 AND 1000\")\n",
    "@dlt.expect_or_drop(\"valid_nox_level\", \"nox_level BETWEEN 0 AND 1000\")\n",
    "@dlt.expect_or_drop(\"valid_temperature\", \"temperature BETWEEN -20 AND 100\")\n",
    "@dlt.expect_or_drop(\"valid_pressure\", \"pressure BETWEEN 0 AND 1000\")\n",
    "@dlt.expect_or_drop(\"valid_flow_rate\", \"flow_rate BETWEEN 0 AND 10000\")\n",
    "@dlt.expect_or_drop(\"valid_timestamp_range\", \"timestamp >= '2020-01-01'\")\n",
    "def sensor_emissions_silver():\n",
    "    return spark.readStream.table(\"bronze.sensor_emissions\")\n"
   ]
  },
  {
   "cell_type": "markdown",
   "metadata": {
    "application/vnd.databricks.v1+cell": {
     "cellMetadata": {},
     "inputWidgets": {},
     "nuid": "34880113-dd16-40ca-82b2-9a983b22ae96",
     "showTitle": false,
     "tableResultSettingsMap": {},
     "title": ""
    }
   },
   "source": [
    "<span style=\"font-size: 2em;\">**Gold: Emissions Analytics Table**</span>"
   ]
  },
  {
   "cell_type": "code",
   "execution_count": 0,
   "metadata": {
    "application/vnd.databricks.v1+cell": {
     "cellMetadata": {},
     "inputWidgets": {},
     "nuid": "0b1d7bdb-51ba-4a9b-85de-71db579cafe0",
     "showTitle": false,
     "tableResultSettingsMap": {},
     "title": ""
    }
   },
   "outputs": [],
   "source": [
    "from pyspark.sql.functions import avg, approx_count_distinct, date_trunc, col, to_date\n",
    "\n",
    "@dlt.table(\n",
    "    name=\"gold.emissions_analytics\",\n",
    "    comment=\"Streaming gold table for emissions analytics\",\n",
    "    temporary=False\n",
    ")\n",
    "def emissions_analytics():\n",
    "    # Get base tables\n",
    "    sensor_emissions = dlt.read_stream(\"silver.sensor_emissions\") \\\n",
    "        .withColumn(\"emission_date\", to_date(col(\"timestamp\")))\n",
    "    \n",
    "    site_info = dlt.read(\"silver.site_info\")\n",
    "    daily_weather = dlt.read(\"silver.daily_weather\")\n",
    "    \n",
    "    # First join - just emissions and site info\n",
    "    base_join = sensor_emissions \\\n",
    "        .join(site_info, [\"site_id\"]) \\\n",
    "        .join(daily_weather, \n",
    "              (sensor_emissions.site_id == daily_weather.site_id) & \n",
    "              (sensor_emissions.emission_date == daily_weather.date)) \\\n",
    "        .select(\n",
    "            sensor_emissions.emission_date,\n",
    "            sensor_emissions.site_id,\n",
    "            site_info.site_name,\n",
    "            daily_weather.temperature_celsius,\n",
    "            daily_weather.humidity_percentage,\n",
    "            sensor_emissions.methane_level,\n",
    "            sensor_emissions.co2_level,\n",
    "            sensor_emissions.nox_level,\n",
    "            sensor_emissions.asset_id\n",
    "        )\n",
    "    \n",
    "    # Simple aggregation\n",
    "    return base_join \\\n",
    "        .groupBy(\n",
    "            \"emission_date\",\n",
    "            \"site_id\",\n",
    "            \"site_name\",\n",
    "            \"temperature_celsius\",\n",
    "            \"humidity_percentage\"\n",
    "        ) \\\n",
    "        .agg(\n",
    "            avg(\"methane_level\").alias(\"avg_methane_level\"),\n",
    "            avg(\"co2_level\").alias(\"avg_co2_level\"),\n",
    "            avg(\"nox_level\").alias(\"avg_nox_level\"),\n",
    "            approx_count_distinct(\"asset_id\").alias(\"approx_reporting_sensors\")\n",
    "        )"
   ]
  },
  {
   "cell_type": "markdown",
   "metadata": {
    "application/vnd.databricks.v1+cell": {
     "cellMetadata": {},
     "inputWidgets": {},
     "nuid": "b45cd973-6813-4f6b-8a24-ca6bc8f5acd0",
     "showTitle": false,
     "tableResultSettingsMap": {},
     "title": ""
    }
   },
   "source": [
    "<span style=\"font-size: 2em;\">**Gold: Asset Compliance History Table**</span>"
   ]
  },
  {
   "cell_type": "code",
   "execution_count": 0,
   "metadata": {
    "application/vnd.databricks.v1+cell": {
     "cellMetadata": {},
     "inputWidgets": {},
     "nuid": "3067e8a4-8ce6-4b82-836e-4a99b5b409dd",
     "showTitle": false,
     "tableResultSettingsMap": {},
     "title": ""
    }
   },
   "outputs": [],
   "source": [
    "from pyspark.sql.functions import expr\n",
    "@dlt.table(name=\"gold.valve_compliance_history\")\n",
    "def valve_compliance_history_gold():\n",
    "    # Get current and historical valve compliance states\n",
    "    return (spark.readStream.table(\"silver.valve_compliance_changes\")\n",
    "            # Filter out NULL records in key fields\n",
    "            .filter(\"valve_id IS NOT NULL AND asset_id IS NOT NULL\")\n",
    "            # Filter out records with NULL compliance status\n",
    "            .filter(\"compliance_status IS NOT NULL\")\n",
    "            # Select and rename columns\n",
    "            .select(\n",
    "                \"valve_id\",\n",
    "                \"asset_id\",\n",
    "                \"compliance_status\",\n",
    "                \"inspector_id\",\n",
    "                \"inspection_notes\",\n",
    "                \"change_timestamp\",\n",
    "                \"__START_AT\",\n",
    "                \"__END_AT\"\n",
    "            )\n",
    "            .withColumnRenamed(\"__START_AT\", \"valid_from\")\n",
    "            .withColumnRenamed(\"__END_AT\", \"valid_to\")\n",
    "            # Add business insights\n",
    "            .withColumn(\"compliance_duration_days\", \n",
    "                       expr(\"datediff(valid_to, valid_from)\"))\n",
    "            .withColumn(\"is_current_record\", \n",
    "                       expr(\"CASE WHEN valid_to IS NULL THEN 'True' ELSE 'False' END\"))\n",
    "            # Deduplicate based on valve_id, asset_id, and valid_from\n",
    "            .dropDuplicates([\"valve_id\", \"asset_id\", \"valid_from\"])\n",
    "    )"
   ]
  }
 ],
 "metadata": {
  "application/vnd.databricks.v1+notebook": {
   "computePreferences": null,
   "dashboards": [],
   "environmentMetadata": null,
   "inputWidgetPreferences": null,
   "language": "python",
   "notebookMetadata": {
    "pythonIndentUnit": 2
   },
   "notebookName": "dlt_pipeline_gold_scd_notebook",
   "widgets": {}
  },
  "default_language": "python",
  "kernelspec": {
   "display_name": "Python 3",
   "language": "python",
   "name": "python3"
  },
  "language_info": {
   "name": "python"
  }
 },
 "nbformat": 4,
 "nbformat_minor": 0
}
