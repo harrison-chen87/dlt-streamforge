{
 "cells": [
  {
   "cell_type": "markdown",
   "metadata": {
    "application/vnd.databricks.v1+cell": {
     "cellMetadata": {},
     "inputWidgets": {},
     "nuid": "2248a4cb-be31-4455-b680-627370453f29",
     "showTitle": false,
     "tableResultSettingsMap": {},
     "title": ""
    }
   },
   "source": [
    "### Databricks DLT Pipeline Code\n",
    "\n",
    "This notebook contains the DLT pipeline code for creating bronze tables in PYTHON.\n",
    "\n",
    "Look for `<CHANGE_HERE: ...>` placeholders in the code and replace them with your values. Detailed instructions follow below.\n",
    "\n",
    "#### Table Naming Instructions\n",
    "Before running the code, you need to specify where your tables will be stored. You can use any of these three formats:\n",
    "\n",
    "1. Three level catalog.schema.table format:\n",
    "   - Replace `<CHANGE_HERE: catalog>.<CHANGE_HERE: schema>` with your Unity Catalog and schema names\n",
    "   - Example: `unity_catalog.my_schema.table_name`\n",
    "\n",
    "2. Two level schema.table format:\n",
    "   - Replace `<CHANGE_HERE: schema>` with your schema name\n",
    "   - The default catalog will be used\n",
    "   - Example: `my_schema.table_name`\n",
    "\n",
    "3. Simple table name format:\n",
    "   - Use just the table name\n",
    "   - Both default catalog and schema will be used\n",
    "   - Example: `table_name`\n",
    "\n",
    "#### Table Documentation and Configuration\n",
    "For each table in the code:\n",
    "\n",
    "1. Table Comments:\n",
    "   - Replace `<CHANGE_HERE: enter_table_comment>` with a descriptive comment about the table's purpose and contents\n",
    "   - Example: \"Bronze table containing raw customer transaction data\"\n",
    "\n",
    "2. For Change Feed Tables:\n",
    "   - Replace `<CHANGE_HERE: 1/2>` with either 1 or 2 to specify the SCD (Slowly Changing Dimension) type:\n",
    "     - Type 1: Overwrites the old value with the new value\n",
    "     - Type 2: Maintains history by creating new records for each change\n",
    "\n",
    "#### Learn More\n",
    "- [Streaming Tables Documentation](https://docs.databricks.com/aws/en/dlt/streaming-tables) - Learn about streaming tables and their use cases for data ingestion and low-latency streaming transformations.\n",
    "- [Materialized Views Documentation](https://docs.databricks.com/aws/en/dlt/materialized-views) - Understand how materialized views work and their benefits for incremental data processing."
   ]
  },
  {
   "cell_type": "markdown",
   "metadata": {
    "application/vnd.databricks.v1+cell": {
     "cellMetadata": {},
     "inputWidgets": {},
     "nuid": "ddb7fceb-4bbe-42d6-8781-eca8c85e6998",
     "showTitle": false,
     "tableResultSettingsMap": {},
     "title": ""
    }
   },
   "source": [
    "#### Table: valve_compliance_changes"
   ]
  },
  {
   "cell_type": "code",
   "execution_count": 0,
   "metadata": {
    "application/vnd.databricks.v1+cell": {
     "cellMetadata": {},
     "inputWidgets": {},
     "nuid": "6d7b512b-38d6-4a8d-8a56-15287f12dec0",
     "showTitle": false,
     "tableResultSettingsMap": {},
     "title": ""
    }
   },
   "outputs": [],
   "source": [
    "@dlt.table(name=\"bronze.valve_compliance_changes\")\n",
    "def source():\n",
    "    return (spark.readStream\n",
    "        .format(\"cloudFiles\")\n",
    "        .option(\"cloudFiles.format\", \"csv\")\n",
    "        .option(\"cloudFiles.inferColumnTypes\", \"true\")\n",
    "        .option(\"multiLine\", \"true\")\n",
    "        .load(\"/Volumes/harrison_chen_catalog/synthetic_energy/energy_volume/Gas_Emissions/valve_compliance_changes/\")\n",
    "    )\n",
    "\n",
    "dlt.create_streaming_table(\n",
    "    name=\"silver.valve_compliance_changes\",\n",
    "    comment=\"<CHANGE_HERE: enter_table_comment>\"\n",
    ")\n",
    "\n",
    "dlt.apply_changes(\n",
    "    target=\"silver.valve_compliance_changes\",\n",
    "    source=\"bronze.valve_compliance_changes\",\n",
    "    keys=['valve_id', 'asset_id'],\n",
    "    sequence_by=\"change_timestamp\",\n",
    "    stored_as_scd_type=\"<CHANGE_HERE: 1/2>\"\n",
    ")\n"
   ]
  },
  {
   "cell_type": "markdown",
   "metadata": {
    "application/vnd.databricks.v1+cell": {
     "cellMetadata": {},
     "inputWidgets": {},
     "nuid": "aa6525d5-4c98-4659-939a-91c6df7e42d2",
     "showTitle": false,
     "tableResultSettingsMap": {},
     "title": ""
    }
   },
   "source": [
    "#### Table: asset_config_changes"
   ]
  },
  {
   "cell_type": "code",
   "execution_count": 0,
   "metadata": {
    "application/vnd.databricks.v1+cell": {
     "cellMetadata": {},
     "inputWidgets": {},
     "nuid": "6042ee6e-630e-4cda-8caf-8cf7caa9268d",
     "showTitle": false,
     "tableResultSettingsMap": {},
     "title": ""
    }
   },
   "outputs": [],
   "source": [
    "@dlt.table(name=\"bronze.asset_config_changes\")\n",
    "def source():\n",
    "    return (spark.readStream\n",
    "        .format(\"cloudFiles\")\n",
    "        .option(\"cloudFiles.format\", \"csv\")\n",
    "        .option(\"cloudFiles.inferColumnTypes\", \"true\")\n",
    "        .option(\"multiLine\", \"true\")\n",
    "        .load(\"/Volumes/harrison_chen_catalog/synthetic_energy/energy_volume/Gas_Emissions/asset_config_changes/\")\n",
    "    )\n",
    "\n",
    "dlt.create_streaming_table(\n",
    "    name=\"silver.asset_config_changes\",\n",
    "    comment=\"<CHANGE_HERE: enter_table_comment>\"\n",
    ")\n",
    "\n",
    "dlt.apply_changes(\n",
    "    target=\"silver.asset_config_changes\",\n",
    "    source=\"bronze.asset_config_changes\",\n",
    "    keys=['config_id', 'asset_id'],\n",
    "    sequence_by=\"change_timestamp\",\n",
    "    stored_as_scd_type=\"<CHANGE_HERE: 1/2>\"\n",
    ")\n"
   ]
  },
  {
   "cell_type": "markdown",
   "metadata": {
    "application/vnd.databricks.v1+cell": {
     "cellMetadata": {},
     "inputWidgets": {},
     "nuid": "1083cea5-d37c-4c2b-b5a6-631855ec639b",
     "showTitle": false,
     "tableResultSettingsMap": {},
     "title": ""
    }
   },
   "source": [
    "#### Table: calibration_records"
   ]
  },
  {
   "cell_type": "code",
   "execution_count": 0,
   "metadata": {
    "application/vnd.databricks.v1+cell": {
     "cellMetadata": {},
     "inputWidgets": {},
     "nuid": "ba44d242-6b31-496f-ad35-a17fdbbfadb1",
     "showTitle": false,
     "tableResultSettingsMap": {},
     "title": ""
    }
   },
   "outputs": [],
   "source": [
    "@dlt.table(name=\"bronze.calibration_records\")\n",
    "def calibration_records_bronze():\n",
    "    return (spark.readStream\n",
    "        .format(\"cloudFiles\")\n",
    "        .option(\"cloudFiles.format\", \"csv\")\n",
    "        .option(\"cloudFiles.inferColumnTypes\", \"true\")\n",
    "        .option(\"multiLine\", \"true\")\n",
    "        .load(\"/Volumes/harrison_chen_catalog/synthetic_energy/energy_volume/Gas_Emissions/calibration_records/\")\n",
    "    )\n",
    "\n",
    "@dlt.table(name=\"silver.calibration_records\")\n",
    "@dlt.expect(\"valid_drift_percentage\", \"drift_percentage BETWEEN 0 AND 100\")\n",
    "def calibration_records_silver():\n",
    "    return spark.readStream.table(\"bronze.calibration_records\")\n"
   ]
  },
  {
   "cell_type": "markdown",
   "metadata": {
    "application/vnd.databricks.v1+cell": {
     "cellMetadata": {},
     "inputWidgets": {},
     "nuid": "b784e625-7092-4b3f-8b26-8f9df9550496",
     "showTitle": false,
     "tableResultSettingsMap": {},
     "title": ""
    }
   },
   "source": [
    "#### Table: inspectors"
   ]
  },
  {
   "cell_type": "code",
   "execution_count": 0,
   "metadata": {
    "application/vnd.databricks.v1+cell": {
     "cellMetadata": {},
     "inputWidgets": {},
     "nuid": "a80819a1-0679-4493-9416-a1d24fe95223",
     "showTitle": false,
     "tableResultSettingsMap": {},
     "title": ""
    }
   },
   "outputs": [],
   "source": [
    "@dlt.table(name=\"bronze.inspectors\")\n",
    "def inspectors_bronze():\n",
    "    return (spark.readStream\n",
    "        .format(\"cloudFiles\")\n",
    "        .option(\"cloudFiles.format\", \"csv\")\n",
    "        .option(\"cloudFiles.inferColumnTypes\", \"true\")\n",
    "        .option(\"multiLine\", \"true\")\n",
    "        .load(\"/Volumes/harrison_chen_catalog/synthetic_energy/energy_volume/Gas_Emissions/inspectors/\")\n",
    "    )\n",
    "\n",
    "@dlt.table(name=\"silver.inspectors\")\n",
    "\n",
    "def inspectors_silver():\n",
    "    return spark.readStream.table(\"bronze.inspectors\")\n"
   ]
  },
  {
   "cell_type": "markdown",
   "metadata": {
    "application/vnd.databricks.v1+cell": {
     "cellMetadata": {},
     "inputWidgets": {},
     "nuid": "c71eddcd-48e9-4e48-80dd-30a3307646d6",
     "showTitle": false,
     "tableResultSettingsMap": {},
     "title": ""
    }
   },
   "source": [
    "#### Table: shift_schedule"
   ]
  },
  {
   "cell_type": "code",
   "execution_count": 0,
   "metadata": {
    "application/vnd.databricks.v1+cell": {
     "cellMetadata": {},
     "inputWidgets": {},
     "nuid": "b61ce421-fe30-4f1b-827a-bce9d1a8d910",
     "showTitle": false,
     "tableResultSettingsMap": {},
     "title": ""
    }
   },
   "outputs": [],
   "source": [
    "@dlt.table(name=\"bronze.shift_schedule\")\n",
    "def shift_schedule_bronze():\n",
    "    return (spark.readStream\n",
    "        .format(\"cloudFiles\")\n",
    "        .option(\"cloudFiles.format\", \"csv\")\n",
    "        .option(\"cloudFiles.inferColumnTypes\", \"true\")\n",
    "        .option(\"multiLine\", \"true\")\n",
    "        .load(\"/Volumes/harrison_chen_catalog/synthetic_energy/energy_volume/Gas_Emissions/shift_schedule/\")\n",
    "    )\n",
    "\n",
    "@dlt.table(name=\"silver.shift_schedule\")\n",
    "\n",
    "def shift_schedule_silver():\n",
    "    return spark.readStream.table(\"bronze.shift_schedule\")\n"
   ]
  },
  {
   "cell_type": "markdown",
   "metadata": {
    "application/vnd.databricks.v1+cell": {
     "cellMetadata": {},
     "inputWidgets": {},
     "nuid": "ef12dbf8-13d4-4b3d-99a8-bef99d19af6b",
     "showTitle": false,
     "tableResultSettingsMap": {},
     "title": ""
    }
   },
   "source": [
    "#### Table: site_info"
   ]
  },
  {
   "cell_type": "code",
   "execution_count": 0,
   "metadata": {
    "application/vnd.databricks.v1+cell": {
     "cellMetadata": {},
     "inputWidgets": {},
     "nuid": "b235ec69-2f2d-476d-8e61-729170cdd2f1",
     "showTitle": false,
     "tableResultSettingsMap": {},
     "title": ""
    }
   },
   "outputs": [],
   "source": [
    "@dlt.table(name=\"bronze.site_info\")\n",
    "def site_info_bronze():\n",
    "    return (spark.readStream\n",
    "        .format(\"cloudFiles\")\n",
    "        .option(\"cloudFiles.format\", \"csv\")\n",
    "        .option(\"cloudFiles.inferColumnTypes\", \"true\")\n",
    "        .option(\"multiLine\", \"true\")\n",
    "        .load(\"/Volumes/harrison_chen_catalog/synthetic_energy/energy_volume/Gas_Emissions/site_info/\")\n",
    "    )\n",
    "\n",
    "@dlt.table(name=\"silver.site_info\")\n",
    "\n",
    "def site_info_silver():\n",
    "    return spark.readStream.table(\"bronze.site_info\")\n"
   ]
  },
  {
   "cell_type": "markdown",
   "metadata": {
    "application/vnd.databricks.v1+cell": {
     "cellMetadata": {},
     "inputWidgets": {},
     "nuid": "b561d8de-57b7-478f-bd87-8c8e2c02fe89",
     "showTitle": false,
     "tableResultSettingsMap": {},
     "title": ""
    }
   },
   "source": [
    "#### Table: daily_weather"
   ]
  },
  {
   "cell_type": "code",
   "execution_count": 0,
   "metadata": {
    "application/vnd.databricks.v1+cell": {
     "cellMetadata": {},
     "inputWidgets": {},
     "nuid": "9ffd31c7-010c-4eff-882f-9f88dc398f89",
     "showTitle": false,
     "tableResultSettingsMap": {},
     "title": ""
    }
   },
   "outputs": [],
   "source": [
    "@dlt.table(name=\"bronze.daily_weather\")\n",
    "def daily_weather_bronze():\n",
    "    return (spark.readStream\n",
    "        .format(\"cloudFiles\")\n",
    "        .option(\"cloudFiles.format\", \"csv\")\n",
    "        .option(\"cloudFiles.inferColumnTypes\", \"true\")\n",
    "        .option(\"multiLine\", \"true\")\n",
    "        .load(\"/Volumes/harrison_chen_catalog/synthetic_energy/energy_volume/Gas_Emissions/daily_weather/\")\n",
    "    )\n",
    "\n",
    "@dlt.table(name=\"silver.daily_weather\")\n",
    "@dlt.expect(\"valid_temperature_celsius\", \"temperature_celsius BETWEEN -40 AND 50\")\n",
    "@dlt.expect(\"valid_humidity_percentage\", \"humidity_percentage BETWEEN 0 AND 100\")\n",
    "def daily_weather_silver():\n",
    "    return spark.readStream.table(\"bronze.daily_weather\")\n"
   ]
  },
  {
   "cell_type": "markdown",
   "metadata": {
    "application/vnd.databricks.v1+cell": {
     "cellMetadata": {},
     "inputWidgets": {},
     "nuid": "641bae32-69d9-41f6-bc21-8ee52e4e8171",
     "showTitle": false,
     "tableResultSettingsMap": {},
     "title": ""
    }
   },
   "source": [
    "#### Table: alert_history"
   ]
  },
  {
   "cell_type": "code",
   "execution_count": 0,
   "metadata": {
    "application/vnd.databricks.v1+cell": {
     "cellMetadata": {},
     "inputWidgets": {},
     "nuid": "2f0c1c50-8e08-455b-9b31-df64a12375ee",
     "showTitle": false,
     "tableResultSettingsMap": {},
     "title": ""
    }
   },
   "outputs": [],
   "source": [
    "@dlt.table(name=\"bronze.alert_history\")\n",
    "def alert_history_bronze():\n",
    "    return (spark.readStream\n",
    "        .format(\"cloudFiles\")\n",
    "        .option(\"cloudFiles.format\", \"csv\")\n",
    "        .option(\"cloudFiles.inferColumnTypes\", \"true\")\n",
    "        .option(\"multiLine\", \"true\")\n",
    "        .load(\"/Volumes/harrison_chen_catalog/synthetic_energy/energy_volume/Gas_Emissions/alert_history/\")\n",
    "    )\n",
    "\n",
    "@dlt.table(name=\"silver.alert_history\")\n",
    "@dlt.expect(\"valid_threshold_value\", \"threshold_value BETWEEN 0 AND 1000\")\n",
    "def alert_history_silver():\n",
    "    return spark.readStream.table(\"bronze.alert_history\")\n"
   ]
  },
  {
   "cell_type": "markdown",
   "metadata": {
    "application/vnd.databricks.v1+cell": {
     "cellMetadata": {},
     "inputWidgets": {},
     "nuid": "cd5cc0a8-9619-4228-b1b4-b523d514a99c",
     "showTitle": false,
     "tableResultSettingsMap": {},
     "title": ""
    }
   },
   "source": [
    "#### Table: asset"
   ]
  },
  {
   "cell_type": "code",
   "execution_count": 0,
   "metadata": {
    "application/vnd.databricks.v1+cell": {
     "cellMetadata": {},
     "inputWidgets": {},
     "nuid": "840ad901-7828-4259-a87e-fce77c51ea95",
     "showTitle": false,
     "tableResultSettingsMap": {},
     "title": ""
    }
   },
   "outputs": [],
   "source": [
    "@dlt.table(name=\"bronze.asset\")\n",
    "def asset_bronze():\n",
    "    return (spark.readStream\n",
    "        .format(\"cloudFiles\")\n",
    "        .option(\"cloudFiles.format\", \"csv\")\n",
    "        .option(\"cloudFiles.inferColumnTypes\", \"true\")\n",
    "        .option(\"multiLine\", \"true\")\n",
    "        .load(\"/Volumes/harrison_chen_catalog/synthetic_energy/energy_volume/Gas_Emissions/asset/\")\n",
    "    )\n",
    "\n",
    "@dlt.table(name=\"silver.asset\")\n",
    "\n",
    "def asset_silver():\n",
    "    return spark.readStream.table(\"bronze.asset\")\n"
   ]
  },
  {
   "cell_type": "markdown",
   "metadata": {
    "application/vnd.databricks.v1+cell": {
     "cellMetadata": {},
     "inputWidgets": {},
     "nuid": "6b9ad2e1-65f4-4452-9612-01c3fda91bbd",
     "showTitle": false,
     "tableResultSettingsMap": {},
     "title": ""
    }
   },
   "source": [
    "#### Table: compliance_regulations"
   ]
  },
  {
   "cell_type": "code",
   "execution_count": 0,
   "metadata": {
    "application/vnd.databricks.v1+cell": {
     "cellMetadata": {},
     "inputWidgets": {},
     "nuid": "886b5376-f696-4470-8024-efa35907afc5",
     "showTitle": false,
     "tableResultSettingsMap": {},
     "title": ""
    }
   },
   "outputs": [],
   "source": [
    "@dlt.table(name=\"bronze.compliance_regulations\")\n",
    "def compliance_regulations_bronze():\n",
    "    return (spark.readStream\n",
    "        .format(\"cloudFiles\")\n",
    "        .option(\"cloudFiles.format\", \"csv\")\n",
    "        .option(\"cloudFiles.inferColumnTypes\", \"true\")\n",
    "        .option(\"multiLine\", \"true\")\n",
    "        .load(\"/Volumes/harrison_chen_catalog/synthetic_energy/energy_volume/Gas_Emissions/compliance_regulations/\")\n",
    "    )\n",
    "\n",
    "@dlt.table(name=\"silver.compliance_regulations\")\n",
    "\n",
    "def compliance_regulations_silver():\n",
    "    return spark.readStream.table(\"bronze.compliance_regulations\")\n"
   ]
  },
  {
   "cell_type": "markdown",
   "metadata": {
    "application/vnd.databricks.v1+cell": {
     "cellMetadata": {},
     "inputWidgets": {},
     "nuid": "7f216311-bf44-4410-a96b-9bd12167e7a9",
     "showTitle": false,
     "tableResultSettingsMap": {},
     "title": ""
    }
   },
   "source": [
    "#### Table: gas_production"
   ]
  },
  {
   "cell_type": "code",
   "execution_count": 0,
   "metadata": {
    "application/vnd.databricks.v1+cell": {
     "cellMetadata": {},
     "inputWidgets": {},
     "nuid": "5c24a222-5f0c-43ba-baee-399396806414",
     "showTitle": false,
     "tableResultSettingsMap": {},
     "title": ""
    }
   },
   "outputs": [],
   "source": [
    "@dlt.table(name=\"bronze.gas_production\")\n",
    "def gas_production_bronze():\n",
    "    return (spark.readStream\n",
    "        .format(\"cloudFiles\")\n",
    "        .option(\"cloudFiles.format\", \"csv\")\n",
    "        .option(\"cloudFiles.inferColumnTypes\", \"true\")\n",
    "        .option(\"multiLine\", \"true\")\n",
    "        .load(\"/Volumes/harrison_chen_catalog/synthetic_energy/energy_volume/Gas_Emissions/gas_production/\")\n",
    "    )\n",
    "\n",
    "@dlt.table(name=\"silver.gas_production\")\n",
    "@dlt.expect(\"valid_gas_volume_m3\", \"gas_volume_m3 BETWEEN 0 AND 10000\")\n",
    "@dlt.expect(\"valid_gas_pressure\", \"gas_pressure BETWEEN 0 AND 500\")\n",
    "def gas_production_silver():\n",
    "    return spark.readStream.table(\"bronze.gas_production\")\n"
   ]
  },
  {
   "cell_type": "markdown",
   "metadata": {
    "application/vnd.databricks.v1+cell": {
     "cellMetadata": {},
     "inputWidgets": {},
     "nuid": "9db3ad0a-9941-4946-9cc3-04d941867d52",
     "showTitle": false,
     "tableResultSettingsMap": {},
     "title": ""
    }
   },
   "source": [
    "#### Table: maintenance_record"
   ]
  },
  {
   "cell_type": "code",
   "execution_count": 0,
   "metadata": {
    "application/vnd.databricks.v1+cell": {
     "cellMetadata": {},
     "inputWidgets": {},
     "nuid": "57cf63bb-b9d9-44b8-9cc0-3602b62d85ff",
     "showTitle": false,
     "tableResultSettingsMap": {},
     "title": ""
    }
   },
   "outputs": [],
   "source": [
    "@dlt.table(name=\"bronze.maintenance_record\")\n",
    "def maintenance_record_bronze():\n",
    "    return (spark.readStream\n",
    "        .format(\"cloudFiles\")\n",
    "        .option(\"cloudFiles.format\", \"csv\")\n",
    "        .option(\"cloudFiles.inferColumnTypes\", \"true\")\n",
    "        .option(\"multiLine\", \"true\")\n",
    "        .load(\"/Volumes/harrison_chen_catalog/synthetic_energy/energy_volume/Gas_Emissions/maintenance_record/\")\n",
    "    )\n",
    "\n",
    "@dlt.table(name=\"silver.maintenance_record\")\n",
    "@dlt.expect(\"valid_cost\", \"cost BETWEEN 0 AND 100000\")\n",
    "def maintenance_record_silver():\n",
    "    return spark.readStream.table(\"bronze.maintenance_record\")\n"
   ]
  },
  {
   "cell_type": "markdown",
   "metadata": {
    "application/vnd.databricks.v1+cell": {
     "cellMetadata": {},
     "inputWidgets": {},
     "nuid": "cfaa9db2-3676-42c6-8b89-446fbaa468f5",
     "showTitle": false,
     "tableResultSettingsMap": {},
     "title": ""
    }
   },
   "source": [
    "#### Table: sensor_emissions"
   ]
  },
  {
   "cell_type": "code",
   "execution_count": 0,
   "metadata": {
    "application/vnd.databricks.v1+cell": {
     "cellMetadata": {},
     "inputWidgets": {},
     "nuid": "7512ad33-edcd-4b21-93ba-221a82578223",
     "showTitle": false,
     "tableResultSettingsMap": {},
     "title": ""
    }
   },
   "outputs": [],
   "source": [
    "@dlt.table(name=\"bronze.sensor_emissions\")\n",
    "def sensor_emissions_bronze():\n",
    "    return (spark.readStream\n",
    "        .format(\"cloudFiles\")\n",
    "        .option(\"cloudFiles.format\", \"csv\")\n",
    "        .option(\"cloudFiles.inferColumnTypes\", \"true\")\n",
    "        .option(\"multiLine\", \"true\")\n",
    "        .load(\"/Volumes/harrison_chen_catalog/synthetic_energy/energy_volume/Gas_Emissions/sensor_emissions/\")\n",
    "    )\n",
    "\n",
    "@dlt.table(name=\"silver.sensor_emissions\")\n",
    "@dlt.expect(\"valid_methane_level\", \"methane_level BETWEEN 0 AND 1000\")\n",
    "@dlt.expect(\"valid_co2_level\", \"co2_level BETWEEN 0 AND 1000\")\n",
    "@dlt.expect(\"valid_nox_level\", \"nox_level BETWEEN 0 AND 1000\")\n",
    "@dlt.expect(\"valid_temperature\", \"temperature BETWEEN -20 AND 100\")\n",
    "@dlt.expect(\"valid_pressure\", \"pressure BETWEEN 0 AND 1000\")\n",
    "@dlt.expect(\"valid_flow_rate\", \"flow_rate BETWEEN 0 AND 10000\")\n",
    "def sensor_emissions_silver():\n",
    "    return spark.readStream.table(\"bronze.sensor_emissions\")\n"
   ]
  }
 ],
 "metadata": {
  "application/vnd.databricks.v1+notebook": {
   "computePreferences": null,
   "dashboards": [],
   "environmentMetadata": null,
   "inputWidgetPreferences": null,
   "language": "python",
   "notebookMetadata": {},
   "notebookName": "dlt_pipeline_Gas_Emissions_bronze_silver_workshop_code",
   "widgets": {}
  },
  "default_language": "python",
  "kernelspec": {
   "display_name": "Python 3",
   "language": "python",
   "name": "python3"
  },
  "language_info": {
   "name": "python"
  }
 },
 "nbformat": 4,
 "nbformat_minor": 0
}
