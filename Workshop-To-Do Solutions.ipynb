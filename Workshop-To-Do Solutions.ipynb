{
 "cells": [
  {
   "cell_type": "markdown",
   "metadata": {
    "application/vnd.databricks.v1+cell": {
     "cellMetadata": {},
     "inputWidgets": {},
     "nuid": "cee6b29f-d8e0-4ff1-bea1-00253738f65e",
     "showTitle": false,
     "tableResultSettingsMap": {},
     "title": ""
    }
   },
   "source": [
    "### Databricks DLT Pipeline Code\n",
    "\n",
    "This notebook contains the DLT pipeline code for creating bronze tables in PYTHON.\n",
    "\n",
    "Look for `<CHANGE_HERE: ...>` placeholders in the code and replace them with your values. Detailed instructions follow below.\n",
    "\n",
    "#### Table Naming Instructions\n",
    "Before running the code, you need to specify where your tables will be stored. You can use any of these three formats:\n",
    "\n",
    "1. Three level catalog.schema.table format:\n",
    "   - Replace `<CHANGE_HERE: catalog>.<CHANGE_HERE: schema>` with your Unity Catalog and schema names\n",
    "   - Example: `unity_catalog.my_schema.table_name`\n",
    "\n",
    "2. Two level schema.table format:\n",
    "   - Replace `<CHANGE_HERE: schema>` with your schema name\n",
    "   - The default catalog will be used\n",
    "   - Example: `my_schema.table_name`\n",
    "\n",
    "3. Simple table name format:\n",
    "   - Use just the table name\n",
    "   - Both default catalog and schema will be used\n",
    "   - Example: `table_name`\n",
    "\n",
    "#### Table Documentation and Configuration\n",
    "For each table in the code:\n",
    "\n",
    "1. Table Comments:\n",
    "   - Replace `<CHANGE_HERE: enter_table_comment>` with a descriptive comment about the table's purpose and contents\n",
    "   - Example: \"Bronze table containing raw customer transaction data\"\n",
    "\n",
    "2. For Change Feed Tables:\n",
    "   - Replace `<CHANGE_HERE: 1/2>` with either 1 or 2 to specify the SCD (Slowly Changing Dimension) type:\n",
    "     - Type 1: Overwrites the old value with the new value\n",
    "     - Type 2: Maintains history by creating new records for each change\n",
    "\n",
    "#### Learn More\n",
    "- [Streaming Tables Documentation](https://docs.databricks.com/aws/en/dlt/streaming-tables) - Learn about streaming tables and their use cases for data ingestion and low-latency streaming transformations.\n",
    "- [Materialized Views Documentation](https://docs.databricks.com/aws/en/dlt/materialized-views) - Understand how materialized views work and their benefits for incremental data processing."
   ]
  },
  {
   "cell_type": "markdown",
   "metadata": {
    "application/vnd.databricks.v1+cell": {
     "cellMetadata": {},
     "inputWidgets": {},
     "nuid": "5c9b203e-6691-4c29-990b-514cdfb01dbe",
     "showTitle": false,
     "tableResultSettingsMap": {},
     "title": ""
    }
   },
   "source": [
    "#### Workshop To DO - SCD Table: valve_compliance_changes"
   ]
  },
  {
   "cell_type": "code",
   "execution_count": 0,
   "metadata": {
    "application/vnd.databricks.v1+cell": {
     "cellMetadata": {},
     "inputWidgets": {},
     "nuid": "9dc760f1-8dd9-4114-893d-94cb660eddff",
     "showTitle": false,
     "tableResultSettingsMap": {},
     "title": ""
    }
   },
   "outputs": [],
   "source": [
    "@dlt.table(name=\"bronze.valve_compliance_changes\")\n",
    "def source():\n",
    "    return (spark.readStream\n",
    "        .format(\"cloudFiles\")\n",
    "        .option(\"cloudFiles.format\", \"csv\")\n",
    "        .option(\"cloudFiles.inferColumnTypes\", \"true\")\n",
    "        .option(\"multiLine\", \"true\")\n",
    "        .load(\"/Volumes/harrison_chen_catalog/synthetic_energy/energy_volume/Gas_Emissions/valve_compliance_changes/\")\n",
    "    )\n",
    "\n",
    "dlt.create_streaming_table(\n",
    "    name=\"silver.valve_compliance_changes\",\n",
    "    comment=\"testing 123 for dry run\"\n",
    ")\n",
    "\n",
    "dlt.apply_changes(\n",
    "    target=\"silver.valve_compliance_changes\",\n",
    "    source=\"bronze.valve_compliance_changes\",\n",
    "    keys=['valve_id', 'asset_id'],\n",
    "    sequence_by=\"change_timestamp\",\n",
    "    stored_as_scd_type=\"2\"\n",
    ")\n"
   ]
  },
  {
   "cell_type": "markdown",
   "metadata": {
    "application/vnd.databricks.v1+cell": {
     "cellMetadata": {},
     "inputWidgets": {},
     "nuid": "55953738-85e4-426f-a6ab-ea9182353396",
     "showTitle": false,
     "tableResultSettingsMap": {},
     "title": ""
    }
   },
   "source": [
    "#### Bronze & Silver Tables: asset_config_changes"
   ]
  },
  {
   "cell_type": "code",
   "execution_count": 0,
   "metadata": {
    "application/vnd.databricks.v1+cell": {
     "cellMetadata": {},
     "inputWidgets": {},
     "nuid": "2210b124-6926-4bfe-a8a3-c4a156e91ef1",
     "showTitle": false,
     "tableResultSettingsMap": {},
     "title": ""
    }
   },
   "outputs": [],
   "source": [
    "@dlt.table(name=\"bronze.asset_config_changes\")\n",
    "def source():\n",
    "    return (spark.readStream\n",
    "        .format(\"cloudFiles\")\n",
    "        .option(\"cloudFiles.format\", \"csv\")\n",
    "        .option(\"cloudFiles.inferColumnTypes\", \"true\")\n",
    "        .option(\"multiLine\", \"true\")\n",
    "        .load(\"/Volumes/harrison_chen_catalog/synthetic_energy/energy_volume/Gas_Emissions/asset_config_changes/\")\n",
    "    )\n",
    "\n",
    "dlt.create_streaming_table(\n",
    "    name=\"silver.asset_config_changes\",\n",
    "    comment=\"fixing up a streaming table\"\n",
    ")\n",
    "\n",
    "dlt.apply_changes(\n",
    "    target=\"silver.asset_config_changes\",\n",
    "    source=\"bronze.asset_config_changes\",\n",
    "    keys=['config_id', 'asset_id'],\n",
    "    sequence_by=\"change_timestamp\",\n",
    "    stored_as_scd_type=\"2\"\n",
    ")\n"
   ]
  },
  {
   "cell_type": "markdown",
   "metadata": {
    "application/vnd.databricks.v1+cell": {
     "cellMetadata": {},
     "inputWidgets": {},
     "nuid": "62391c2b-fe25-4fad-a08f-00201ccd4fdc",
     "showTitle": false,
     "tableResultSettingsMap": {},
     "title": ""
    }
   },
   "source": [
    "#### Bronze & Silver Tables: calibration_records"
   ]
  },
  {
   "cell_type": "code",
   "execution_count": 0,
   "metadata": {
    "application/vnd.databricks.v1+cell": {
     "cellMetadata": {},
     "inputWidgets": {},
     "nuid": "fc0f1314-6b56-407f-91d0-ced71c632bcf",
     "showTitle": false,
     "tableResultSettingsMap": {},
     "title": ""
    }
   },
   "outputs": [],
   "source": [
    "@dlt.table(name=\"bronze.calibration_records\")\n",
    "def calibration_records_bronze():\n",
    "    return (spark.readStream\n",
    "        .format(\"cloudFiles\")\n",
    "        .option(\"cloudFiles.format\", \"csv\")\n",
    "        .option(\"cloudFiles.inferColumnTypes\", \"true\")\n",
    "        .option(\"multiLine\", \"true\")\n",
    "        .load(\"/Volumes/harrison_chen_catalog/synthetic_energy/energy_volume/Gas_Emissions/calibration_records/\")\n",
    "    )\n",
    "\n",
    "@dlt.table(name=\"silver.calibration_records\")\n",
    "@dlt.expect(\"valid_drift_percentage\", \"drift_percentage BETWEEN 0 AND 100\")\n",
    "def calibration_records_silver():\n",
    "    return spark.readStream.table(\"bronze.calibration_records\")\n"
   ]
  },
  {
   "cell_type": "markdown",
   "metadata": {
    "application/vnd.databricks.v1+cell": {
     "cellMetadata": {},
     "inputWidgets": {},
     "nuid": "265f9c6a-2ed5-445b-9486-7c5930d86e3e",
     "showTitle": false,
     "tableResultSettingsMap": {},
     "title": ""
    }
   },
   "source": [
    "#### Bronze & Silver Table: inspectors"
   ]
  },
  {
   "cell_type": "code",
   "execution_count": 0,
   "metadata": {
    "application/vnd.databricks.v1+cell": {
     "cellMetadata": {},
     "inputWidgets": {},
     "nuid": "9ca8e8c7-a856-4cc8-bb3a-f35b560fec7c",
     "showTitle": false,
     "tableResultSettingsMap": {},
     "title": ""
    }
   },
   "outputs": [],
   "source": [
    "@dlt.table(name=\"bronze.inspectors\")\n",
    "def inspectors_bronze():\n",
    "    return (spark.readStream\n",
    "        .format(\"cloudFiles\")\n",
    "        .option(\"cloudFiles.format\", \"csv\")\n",
    "        .option(\"cloudFiles.inferColumnTypes\", \"true\")\n",
    "        .option(\"multiLine\", \"true\")\n",
    "        .load(\"/Volumes/harrison_chen_catalog/synthetic_energy/energy_volume/Gas_Emissions/inspectors/\")\n",
    "    )\n",
    "\n",
    "@dlt.table(name=\"silver.inspectors\")\n",
    "\n",
    "def inspectors_silver():\n",
    "    return spark.readStream.table(\"bronze.inspectors\")\n"
   ]
  },
  {
   "cell_type": "markdown",
   "metadata": {
    "application/vnd.databricks.v1+cell": {
     "cellMetadata": {},
     "inputWidgets": {},
     "nuid": "8f6599d4-92f1-492e-9f9b-37a6e93121e9",
     "showTitle": false,
     "tableResultSettingsMap": {},
     "title": ""
    }
   },
   "source": [
    "#### Bronze and Silver Tables: shift_schedule"
   ]
  },
  {
   "cell_type": "code",
   "execution_count": 0,
   "metadata": {
    "application/vnd.databricks.v1+cell": {
     "cellMetadata": {},
     "inputWidgets": {},
     "nuid": "71aaed65-d977-4cf9-a656-008677307eb6",
     "showTitle": false,
     "tableResultSettingsMap": {},
     "title": ""
    }
   },
   "outputs": [],
   "source": [
    "@dlt.table(name=\"bronze.shift_schedule\")\n",
    "def shift_schedule_bronze():\n",
    "    return (spark.readStream\n",
    "        .format(\"cloudFiles\")\n",
    "        .option(\"cloudFiles.format\", \"csv\")\n",
    "        .option(\"cloudFiles.inferColumnTypes\", \"true\")\n",
    "        .option(\"multiLine\", \"true\")\n",
    "        .load(\"/Volumes/harrison_chen_catalog/synthetic_energy/energy_volume/Gas_Emissions/shift_schedule/\")\n",
    "    )\n",
    "\n",
    "@dlt.table(name=\"silver.shift_schedule\")\n",
    "\n",
    "def shift_schedule_silver():\n",
    "    return spark.readStream.table(\"bronze.shift_schedule\")\n"
   ]
  },
  {
   "cell_type": "markdown",
   "metadata": {
    "application/vnd.databricks.v1+cell": {
     "cellMetadata": {},
     "inputWidgets": {},
     "nuid": "3ea2abf1-063a-43c8-9b8d-559e9b136071",
     "showTitle": false,
     "tableResultSettingsMap": {},
     "title": ""
    }
   },
   "source": [
    "#### Bronze Table: site_info"
   ]
  },
  {
   "cell_type": "code",
   "execution_count": 0,
   "metadata": {
    "application/vnd.databricks.v1+cell": {
     "cellMetadata": {},
     "inputWidgets": {},
     "nuid": "703083c9-1d53-49e9-88b3-d95c674e41a6",
     "showTitle": false,
     "tableResultSettingsMap": {},
     "title": ""
    }
   },
   "outputs": [],
   "source": [
    "@dlt.table(name=\"bronze.site_info\")\n",
    "def site_info_bronze():\n",
    "    return (spark.readStream\n",
    "        .format(\"cloudFiles\")\n",
    "        .option(\"cloudFiles.format\", \"csv\")\n",
    "        .option(\"cloudFiles.inferColumnTypes\", \"true\")\n",
    "        .option(\"multiLine\", \"true\")\n",
    "        .load(\"/Volumes/harrison_chen_catalog/synthetic_energy/energy_volume/Gas_Emissions/site_info/\")\n",
    "    )\n",
    "\n",
    "@dlt.table(name=\"silver.site_info\")\n",
    "\n",
    "def site_info_silver():\n",
    "    return spark.readStream.table(\"bronze.site_info\")\n"
   ]
  },
  {
   "cell_type": "markdown",
   "metadata": {
    "application/vnd.databricks.v1+cell": {
     "cellMetadata": {},
     "inputWidgets": {},
     "nuid": "455ee9f9-ae71-4276-b280-88397dee2829",
     "showTitle": false,
     "tableResultSettingsMap": {},
     "title": ""
    }
   },
   "source": [
    "#### Tables: daily_weather"
   ]
  },
  {
   "cell_type": "markdown",
   "metadata": {
    "application/vnd.databricks.v1+cell": {
     "cellMetadata": {},
     "inputWidgets": {},
     "nuid": "1ed9e242-b3b0-4053-8aa5-2a2ea764c7d3",
     "showTitle": false,
     "tableResultSettingsMap": {},
     "title": ""
    }
   },
   "source": [
    "#### Workshop To Do: Silver Table - Add the Watermark!"
   ]
  },
  {
   "cell_type": "code",
   "execution_count": 0,
   "metadata": {
    "application/vnd.databricks.v1+cell": {
     "cellMetadata": {},
     "inputWidgets": {},
     "nuid": "b4942ef0-8a63-45f2-bb7a-ff27a8b808bb",
     "showTitle": false,
     "tableResultSettingsMap": {},
     "title": ""
    }
   },
   "outputs": [],
   "source": [
    "from pyspark.sql.functions import col, current_timestamp\n",
    "\n",
    "@dlt.table(name=\"bronze.daily_weather\")\n",
    "def daily_weather_bronze():\n",
    "    return (spark.readStream\n",
    "        .format(\"cloudFiles\")\n",
    "        .option(\"cloudFiles.format\", \"csv\")\n",
    "        .option(\"cloudFiles.inferColumnTypes\", \"true\")\n",
    "        .option(\"multiLine\", \"true\")\n",
    "        .load(\"/Volumes/harrison_chen_catalog/synthetic_energy/energy_volume/Gas_Emissions/daily_weather/\")\n",
    "        .withColumn(\"_ingestion_timestamp\", current_timestamp())\n",
    "    )\n",
    "\n",
    "@dlt.table(\n",
    "    name=\"silver.daily_weather\",\n",
    "    comment=\"Silver table for daily weather data with watermark handling for late-arriving data\"\n",
    ")\n",
    "@dlt.expect(\"valid_temperature_celsius\", \"temperature_celsius BETWEEN -40 AND 50\")\n",
    "@dlt.expect(\"valid_humidity_percentage\", \"humidity_percentage BETWEEN 0 AND 100\")\n",
    "@dlt.expect(\"valid_wind_speed\", \"wind_speed_kmh BETWEEN 0 AND 200\")\n",
    "@dlt.expect(\"valid_precipitation\", \"precipitation_mm BETWEEN 0 AND 500\")\n",
    "@dlt.expect(\"valid_pressure\", \"atmospheric_pressure BETWEEN 980 AND 1030\")\n",
    "@dlt.expect(\"not_null_site_id\", \"site_id IS NOT NULL\")\n",
    "@dlt.expect(\"not_null_date\", \"date IS NOT NULL\")\n",
    "def daily_weather_silver():\n",
    "    return (\n",
    "        spark.readStream.table(\"bronze.daily_weather\")\n",
    "        .withColumn(\"date_timestamp\", col(\"date\").cast(\"timestamp\"))  # Cast DATE to TIMESTAMP\n",
    "        .withWatermark(\"date_timestamp\", \"7 days\")  # Use the TIMESTAMP column for watermark\n",
    "        .dropDuplicates([\"site_id\", \"date\"])  # Still deduplicate on original DATE column\n",
    "        .select(\n",
    "            col(\"site_id\"),\n",
    "            col(\"date\"),  # Keep original DATE column\n",
    "            col(\"temperature_celsius\"),\n",
    "            col(\"humidity_percentage\"),\n",
    "            col(\"wind_speed_kmh\"),\n",
    "            col(\"precipitation_mm\"),\n",
    "            col(\"atmospheric_pressure\"),\n",
    "            col(\"weather_condition\"),\n",
    "            col(\"_ingestion_timestamp\"),\n",
    "            current_timestamp().alias(\"_processed_timestamp\")\n",
    "        )\n",
    "    )\n"
   ]
  },
  {
   "cell_type": "markdown",
   "metadata": {
    "application/vnd.databricks.v1+cell": {
     "cellMetadata": {},
     "inputWidgets": {},
     "nuid": "b1f52acd-0f37-48b0-b9c7-3aaa6441e776",
     "showTitle": false,
     "tableResultSettingsMap": {},
     "title": ""
    }
   },
   "source": [
    "#### Bronze Table: alert_history"
   ]
  },
  {
   "cell_type": "code",
   "execution_count": 0,
   "metadata": {
    "application/vnd.databricks.v1+cell": {
     "cellMetadata": {},
     "inputWidgets": {},
     "nuid": "40383aca-9b90-4f5b-88ce-2596b10387a9",
     "showTitle": false,
     "tableResultSettingsMap": {},
     "title": ""
    }
   },
   "outputs": [],
   "source": [
    "import dlt\n",
    "from pyspark.sql.functions import col, current_timestamp, when, lit, expr\n",
    "\n",
    "@dlt.table(name=\"bronze.alert_history\")\n",
    "def alert_history_bronze():\n",
    "    return (spark.readStream\n",
    "        .format(\"cloudFiles\")\n",
    "        .option(\"cloudFiles.format\", \"csv\")\n",
    "        .option(\"cloudFiles.inferColumnTypes\", \"true\")\n",
    "        .option(\"multiLine\", \"true\")\n",
    "        .load(\"/Volumes/harrison_chen_catalog/synthetic_energy/energy_volume/Gas_Emissions/alert_history/\")\n",
    "        .withColumn(\"_ingestion_timestamp\", current_timestamp())\n",
    "    )"
   ]
  },
  {
   "cell_type": "markdown",
   "metadata": {
    "application/vnd.databricks.v1+cell": {
     "cellMetadata": {},
     "inputWidgets": {},
     "nuid": "e608c152-40f2-44d4-a300-d27fd7777cab",
     "showTitle": false,
     "tableResultSettingsMap": {},
     "title": ""
    }
   },
   "source": [
    "#### Workshop To Do - Silver Layer Data Quality Expectations"
   ]
  },
  {
   "cell_type": "code",
   "execution_count": 0,
   "metadata": {
    "application/vnd.databricks.v1+cell": {
     "cellMetadata": {},
     "inputWidgets": {},
     "nuid": "fc5f6c2e-c89a-44c5-8122-7b5085560d52",
     "showTitle": false,
     "tableResultSettingsMap": {},
     "title": ""
    }
   },
   "outputs": [],
   "source": [
    "@dlt.table(\n",
    "    name=\"silver.alert_history\",\n",
    "    comment=\"Silver table for alert history with data quality and active alert tracking\"\n",
    ")\n",
    "#<To Do>: Write your own expectation! Try expect_or_drop() or expect_or_fail()\n",
    "@dlt.expect(\"valid_threshold_value\", \"threshold_value BETWEEN 0 AND 1000\")\n",
    "@dlt.expect(\"valid_measured_value\", \"measured_value BETWEEN 0 AND 1000\")\n",
    "@dlt.expect(\"valid_alert_timestamp\", \"alert_timestamp IS NOT NULL\")\n",
    "@dlt.expect(\"valid_alert_type\", \"alert_type IN ('THRESHOLD', 'MALFUNCTION', 'CALIBRATION', 'COMPLIANCE')\")\n",
    "@dlt.expect(\"valid_severity\", \"severity IN ('LOW', 'MEDIUM', 'HIGH', 'CRITICAL')\")\n",
    "@dlt.expect(\"not_null_alert_id\", \"alert_id IS NOT NULL\")\n",
    "@dlt.expect(\"not_null_asset_id\", \"asset_id IS NOT NULL\")\n",
    "@dlt.expect(\"not_null_site_id\", \"site_id IS NOT NULL\")\n",
    "def alert_history_silver():\n",
    "    return (\n",
    "        spark.readStream.table(\"bronze.alert_history\")\n",
    "        .withWatermark(\"alert_timestamp\", \"30 days\")\n",
    "        .select(\n",
    "            col(\"alert_id\"),\n",
    "            col(\"asset_id\"),\n",
    "            col(\"site_id\"),\n",
    "            col(\"emission_id\"),\n",
    "            col(\"alert_timestamp\"),\n",
    "            col(\"alert_type\"),\n",
    "            col(\"severity\"),\n",
    "            col(\"threshold_value\"),\n",
    "            col(\"measured_value\"),\n",
    "            col(\"resolution_timestamp\"),\n",
    "            col(\"resolution_action\"),\n",
    "            col(\"inspector_id\"),\n",
    "            col(\"notes\"),\n",
    "            col(\"_ingestion_timestamp\"),\n",
    "            current_timestamp().alias(\"_processed_timestamp\")\n",
    "        )\n",
    "    )"
   ]
  },
  {
   "cell_type": "markdown",
   "metadata": {
    "application/vnd.databricks.v1+cell": {
     "cellMetadata": {},
     "inputWidgets": {},
     "nuid": "9826a427-0410-4724-9557-ca30f1f5ece0",
     "showTitle": false,
     "tableResultSettingsMap": {},
     "title": ""
    }
   },
   "source": [
    "#### Workshop To Do - Gold Layer Streaming Table: Active Alerts"
   ]
  },
  {
   "cell_type": "code",
   "execution_count": 0,
   "metadata": {
    "application/vnd.databricks.v1+cell": {
     "cellMetadata": {},
     "inputWidgets": {},
     "nuid": "808bd317-2bcc-4c04-8c70-7694a4cd45be",
     "showTitle": false,
     "tableResultSettingsMap": {},
     "title": ""
    }
   },
   "outputs": [],
   "source": [
    "@dlt.table(name=\"gold.active_alerts\")\n",
    "def active_alerts_gold():\n",
    "    return (spark.readStream.table(\"silver.alert_history\")\n",
    "            # Filter for active alerts only (no resolution timestamp)\n",
    "            .filter(\"resolution_timestamp IS NULL\")\n",
    "            # Add watermark for late-arriving data handling\n",
    "            .withWatermark(\"alert_timestamp\", \"1 hour\")\n",
    "            # Keep only essential columns\n",
    "            .select(\n",
    "                \"alert_id\",\n",
    "                \"asset_id\", \n",
    "                \"site_id\",\n",
    "                \"emission_id\",\n",
    "                \"alert_timestamp\",\n",
    "                \"alert_type\",\n",
    "                \"severity\",\n",
    "                \"threshold_value\",\n",
    "                \"measured_value\",\n",
    "                \"inspector_id\",\n",
    "                \"notes\"\n",
    "            )\n",
    "            # Deduplicate based on alert_id to keep latest status\n",
    "            .dropDuplicates([\"alert_id\"])\n",
    "    )"
   ]
  },
  {
   "cell_type": "markdown",
   "metadata": {
    "application/vnd.databricks.v1+cell": {
     "cellMetadata": {},
     "inputWidgets": {},
     "nuid": "04ecc7ef-fdc9-470a-8a97-32cfea8fa921",
     "showTitle": false,
     "tableResultSettingsMap": {},
     "title": ""
    }
   },
   "source": [
    "#### Workshop To Do: Gold Materialized View: Alert Summary"
   ]
  },
  {
   "cell_type": "code",
   "execution_count": 0,
   "metadata": {
    "application/vnd.databricks.v1+cell": {
     "cellMetadata": {},
     "inputWidgets": {},
     "nuid": "c85c8f6f-5e99-4d24-958c-6ad0e55fbea3",
     "showTitle": false,
     "tableResultSettingsMap": {},
     "title": ""
    }
   },
   "outputs": [],
   "source": [
    "@dlt.table(\n",
    "    name=\"gold.alert_summary\",\n",
    "    comment=\"Aggregated alert statistics and trends\"\n",
    ")\n",
    "def alert_summary():\n",
    "    return (\n",
    "        dlt.read(\"silver.alert_history\")\n",
    "        .groupBy(\"site_id\", \"alert_type\", \"severity\")\n",
    "        .agg(\n",
    "            expr(\"count(*)\").alias(\"total_alerts\"),\n",
    "            expr(\"sum(case when resolution_timestamp is null then 1 else 0 end)\").alias(\"active_alerts\"),\n",
    "            expr(\"avg(case when resolution_timestamp is not null then unix_timestamp(resolution_timestamp) - unix_timestamp(alert_timestamp) else null end)\").alias(\"avg_resolution_time_seconds\"),\n",
    "            expr(\"max(alert_timestamp)\").alias(\"latest_alert_timestamp\"),\n",
    "            expr(\"min(alert_timestamp)\").alias(\"earliest_alert_timestamp\")\n",
    "        )\n",
    "        .withColumn(\"resolution_rate\", \n",
    "                   expr(\"(total_alerts - active_alerts) / total_alerts * 100\"))\n",
    "        .withColumn(\"_processed_timestamp\", current_timestamp())\n",
    "    )"
   ]
  },
  {
   "cell_type": "markdown",
   "metadata": {
    "application/vnd.databricks.v1+cell": {
     "cellMetadata": {},
     "inputWidgets": {},
     "nuid": "1274ba76-fcc0-488a-8000-a3d28b9dbbf8",
     "showTitle": false,
     "tableResultSettingsMap": {},
     "title": ""
    }
   },
   "source": [
    "#### Bronze & Silver Tables: asset"
   ]
  },
  {
   "cell_type": "code",
   "execution_count": 0,
   "metadata": {
    "application/vnd.databricks.v1+cell": {
     "cellMetadata": {},
     "inputWidgets": {},
     "nuid": "a3059006-4af2-4c98-9b94-d9e8da395905",
     "showTitle": false,
     "tableResultSettingsMap": {},
     "title": ""
    }
   },
   "outputs": [],
   "source": [
    "@dlt.table(name=\"bronze.asset\")\n",
    "def asset_bronze():\n",
    "    return (spark.readStream\n",
    "        .format(\"cloudFiles\")\n",
    "        .option(\"cloudFiles.format\", \"csv\")\n",
    "        .option(\"cloudFiles.inferColumnTypes\", \"true\")\n",
    "        .option(\"multiLine\", \"true\")\n",
    "        .load(\"/Volumes/harrison_chen_catalog/synthetic_energy/energy_volume/Gas_Emissions/asset/\")\n",
    "    )\n",
    "\n",
    "@dlt.table(name=\"silver.asset\")\n",
    "\n",
    "def asset_silver():\n",
    "    return spark.readStream.table(\"bronze.asset\")\n"
   ]
  },
  {
   "cell_type": "markdown",
   "metadata": {
    "application/vnd.databricks.v1+cell": {
     "cellMetadata": {},
     "inputWidgets": {},
     "nuid": "5a82c129-8a92-4acd-a15c-78d8be83d4f7",
     "showTitle": false,
     "tableResultSettingsMap": {},
     "title": ""
    }
   },
   "source": [
    "#### Bronze & Silver Tables: compliance_regulations"
   ]
  },
  {
   "cell_type": "code",
   "execution_count": 0,
   "metadata": {
    "application/vnd.databricks.v1+cell": {
     "cellMetadata": {},
     "inputWidgets": {},
     "nuid": "7cc8e3d3-b83d-462e-82c2-db597db161a3",
     "showTitle": false,
     "tableResultSettingsMap": {},
     "title": ""
    }
   },
   "outputs": [],
   "source": [
    "@dlt.table(name=\"bronze.compliance_regulations\")\n",
    "def compliance_regulations_bronze():\n",
    "    return (spark.readStream\n",
    "        .format(\"cloudFiles\")\n",
    "        .option(\"cloudFiles.format\", \"csv\")\n",
    "        .option(\"cloudFiles.inferColumnTypes\", \"true\")\n",
    "        .option(\"multiLine\", \"true\")\n",
    "        .load(\"/Volumes/harrison_chen_catalog/synthetic_energy/energy_volume/Gas_Emissions/compliance_regulations/\")\n",
    "    )\n",
    "\n",
    "@dlt.table(name=\"silver.compliance_regulations\")\n",
    "\n",
    "def compliance_regulations_silver():\n",
    "    return spark.readStream.table(\"bronze.compliance_regulations\")\n"
   ]
  },
  {
   "cell_type": "markdown",
   "metadata": {
    "application/vnd.databricks.v1+cell": {
     "cellMetadata": {},
     "inputWidgets": {},
     "nuid": "271779f0-06f4-40c6-a410-73a603f18037",
     "showTitle": false,
     "tableResultSettingsMap": {},
     "title": ""
    }
   },
   "source": [
    "#### Bronze & Silver Tables: gas_production"
   ]
  },
  {
   "cell_type": "code",
   "execution_count": 0,
   "metadata": {
    "application/vnd.databricks.v1+cell": {
     "cellMetadata": {},
     "inputWidgets": {},
     "nuid": "8cb9276e-cbd5-4c0f-9a41-77e5c4d49521",
     "showTitle": false,
     "tableResultSettingsMap": {},
     "title": ""
    }
   },
   "outputs": [],
   "source": [
    "@dlt.table(name=\"bronze.gas_production\")\n",
    "def gas_production_bronze():\n",
    "    return (spark.readStream\n",
    "        .format(\"cloudFiles\")\n",
    "        .option(\"cloudFiles.format\", \"csv\")\n",
    "        .option(\"cloudFiles.inferColumnTypes\", \"true\")\n",
    "        .option(\"multiLine\", \"true\")\n",
    "        .load(\"/Volumes/harrison_chen_catalog/synthetic_energy/energy_volume/Gas_Emissions/gas_production/\")\n",
    "    )\n",
    "\n",
    "@dlt.table(name=\"silver.gas_production\")\n",
    "@dlt.expect(\"valid_gas_volume_m3\", \"gas_volume_m3 BETWEEN 0 AND 10000\")\n",
    "@dlt.expect(\"valid_gas_pressure\", \"gas_pressure BETWEEN 0 AND 500\")\n",
    "def gas_production_silver():\n",
    "    return spark.readStream.table(\"bronze.gas_production\")\n"
   ]
  },
  {
   "cell_type": "markdown",
   "metadata": {
    "application/vnd.databricks.v1+cell": {
     "cellMetadata": {},
     "inputWidgets": {},
     "nuid": "ce1746db-b63b-4dce-b411-dc3e975d879f",
     "showTitle": false,
     "tableResultSettingsMap": {},
     "title": ""
    }
   },
   "source": [
    "#### Bronze & Silver Tables: maintenance_record"
   ]
  },
  {
   "cell_type": "code",
   "execution_count": 0,
   "metadata": {
    "application/vnd.databricks.v1+cell": {
     "cellMetadata": {},
     "inputWidgets": {},
     "nuid": "3fe7f442-5fa8-4999-99f9-ff08ec9c410f",
     "showTitle": false,
     "tableResultSettingsMap": {},
     "title": ""
    }
   },
   "outputs": [],
   "source": [
    "@dlt.table(name=\"bronze.maintenance_record\")\n",
    "def maintenance_record_bronze():\n",
    "    return (spark.readStream\n",
    "        .format(\"cloudFiles\")\n",
    "        .option(\"cloudFiles.format\", \"csv\")\n",
    "        .option(\"cloudFiles.inferColumnTypes\", \"true\")\n",
    "        .option(\"multiLine\", \"true\")\n",
    "        .load(\"/Volumes/harrison_chen_catalog/synthetic_energy/energy_volume/Gas_Emissions/maintenance_record/\")\n",
    "    )\n",
    "\n",
    "@dlt.table(name=\"silver.maintenance_record\")\n",
    "@dlt.expect(\"valid_cost\", \"cost BETWEEN 0 AND 100000\")\n",
    "def maintenance_record_silver():\n",
    "    return spark.readStream.table(\"bronze.maintenance_record\")\n"
   ]
  },
  {
   "cell_type": "markdown",
   "metadata": {
    "application/vnd.databricks.v1+cell": {
     "cellMetadata": {},
     "inputWidgets": {},
     "nuid": "af82a451-aabf-4267-a60d-b2c044566a46",
     "showTitle": false,
     "tableResultSettingsMap": {},
     "title": ""
    }
   },
   "source": [
    "#### Bronze & Silver Tables: sensor_emissions"
   ]
  },
  {
   "cell_type": "code",
   "execution_count": 0,
   "metadata": {
    "application/vnd.databricks.v1+cell": {
     "cellMetadata": {},
     "inputWidgets": {},
     "nuid": "765590ae-e9be-4c42-867d-bda12c4c3d34",
     "showTitle": false,
     "tableResultSettingsMap": {},
     "title": ""
    }
   },
   "outputs": [],
   "source": [
    "@dlt.table(name=\"bronze.sensor_emissions\")\n",
    "def sensor_emissions_bronze():\n",
    "    return (spark.readStream\n",
    "        .format(\"cloudFiles\")\n",
    "        .option(\"cloudFiles.format\", \"csv\")\n",
    "        .option(\"cloudFiles.inferColumnTypes\", \"true\")\n",
    "        .option(\"multiLine\", \"true\")\n",
    "        .load(\"/Volumes/harrison_chen_catalog/synthetic_energy/energy_volume/Gas_Emissions/sensor_emissions/\")\n",
    "    )\n",
    "\n",
    "@dlt.table(name=\"silver.sensor_emissions\")\n",
    "@dlt.expect(\"valid_methane_level\", \"methane_level BETWEEN 0 AND 1000\")\n",
    "@dlt.expect(\"valid_co2_level\", \"co2_level BETWEEN 0 AND 1000\")\n",
    "@dlt.expect(\"valid_nox_level\", \"nox_level BETWEEN 0 AND 1000\")\n",
    "@dlt.expect(\"valid_temperature\", \"temperature BETWEEN -20 AND 100\")\n",
    "@dlt.expect(\"valid_pressure\", \"pressure BETWEEN 0 AND 1000\")\n",
    "@dlt.expect(\"valid_flow_rate\", \"flow_rate BETWEEN 0 AND 10000\")\n",
    "def sensor_emissions_silver():\n",
    "    return spark.readStream.table(\"bronze.sensor_emissions\")\n"
   ]
  },
  {
   "cell_type": "markdown",
   "metadata": {
    "application/vnd.databricks.v1+cell": {
     "cellMetadata": {},
     "inputWidgets": {},
     "nuid": "7970ed7f-6f1b-402a-9778-cfa79c7371c7",
     "showTitle": false,
     "tableResultSettingsMap": {},
     "title": ""
    }
   },
   "source": [
    "#### Gold: Emissions Analytics Table"
   ]
  },
  {
   "cell_type": "code",
   "execution_count": 0,
   "metadata": {
    "application/vnd.databricks.v1+cell": {
     "cellMetadata": {},
     "inputWidgets": {},
     "nuid": "951ef971-4a94-40f2-9970-6e308748d546",
     "showTitle": false,
     "tableResultSettingsMap": {},
     "title": ""
    }
   },
   "outputs": [],
   "source": [
    "from pyspark.sql.functions import avg, approx_count_distinct, date_trunc, col, to_date\n",
    "\n",
    "@dlt.table(\n",
    "    name=\"gold.emissions_analytics\",\n",
    "    comment=\"Streaming gold table for emissions analytics\",\n",
    "    temporary=False\n",
    ")\n",
    "def emissions_analytics():\n",
    "    # Get base tables\n",
    "    sensor_emissions = dlt.read(\"silver.sensor_emissions\") \\\n",
    "        .withColumn(\"emission_date\", to_date(col(\"timestamp\")))\n",
    "    \n",
    "    site_info = dlt.read(\"silver.site_info\")\n",
    "    daily_weather = dlt.read(\"silver.daily_weather\")\n",
    "    \n",
    "    # First join - just emissions and site info\n",
    "    base_join = sensor_emissions \\\n",
    "        .join(site_info, [\"site_id\"]) \\\n",
    "        .join(daily_weather, \n",
    "              (sensor_emissions.site_id == daily_weather.site_id) & \n",
    "              (sensor_emissions.emission_date == daily_weather.date)) \\\n",
    "        .select(\n",
    "            sensor_emissions.emission_date,\n",
    "            sensor_emissions.site_id,\n",
    "            site_info.site_name,\n",
    "            daily_weather.temperature_celsius,\n",
    "            daily_weather.humidity_percentage,\n",
    "            sensor_emissions.methane_level,\n",
    "            sensor_emissions.co2_level,\n",
    "            sensor_emissions.nox_level,\n",
    "            sensor_emissions.asset_id\n",
    "        )\n",
    "    \n",
    "    # Simple aggregation\n",
    "    return base_join \\\n",
    "        .groupBy(\n",
    "            \"emission_date\",\n",
    "            \"site_id\",\n",
    "            \"site_name\",\n",
    "            \"temperature_celsius\",\n",
    "            \"humidity_percentage\"\n",
    "        ) \\\n",
    "        .agg(\n",
    "            avg(\"methane_level\").alias(\"avg_methane_level\"),\n",
    "            avg(\"co2_level\").alias(\"avg_co2_level\"),\n",
    "            avg(\"nox_level\").alias(\"avg_nox_level\"),\n",
    "            approx_count_distinct(\"asset_id\").alias(\"approx_reporting_sensors\")\n",
    "        )"
   ]
  },
  {
   "cell_type": "markdown",
   "metadata": {
    "application/vnd.databricks.v1+cell": {
     "cellMetadata": {},
     "inputWidgets": {},
     "nuid": "bbeb9c99-6b89-4240-abed-acd6844c9989",
     "showTitle": false,
     "tableResultSettingsMap": {},
     "title": ""
    }
   },
   "source": [
    "#### Workshop To Do - Gold: Asset Compliance History Table"
   ]
  },
  {
   "cell_type": "code",
   "execution_count": 0,
   "metadata": {
    "application/vnd.databricks.v1+cell": {
     "cellMetadata": {},
     "inputWidgets": {},
     "nuid": "e62af011-bb03-4964-8d2f-68189e572c68",
     "showTitle": false,
     "tableResultSettingsMap": {},
     "title": ""
    }
   },
   "outputs": [],
   "source": [
    "from pyspark.sql.functions import expr\n",
    "@dlt.table(name=\"gold.valve_compliance_history\")\n",
    "def valve_compliance_history_gold():\n",
    "    # Get current and historical valve compliance states\n",
    "    return (spark.read.table(\"silver.valve_compliance_changes\")\n",
    "            # Filter out NULL records in key fields\n",
    "            .filter(\"valve_id IS NOT NULL AND asset_id IS NOT NULL\")\n",
    "            # Filter out records with NULL compliance status\n",
    "            .filter(\"compliance_status IS NOT NULL\")\n",
    "            # Select and rename columns\n",
    "            .select(\n",
    "                \"valve_id\",\n",
    "                \"asset_id\",\n",
    "                \"compliance_status\",\n",
    "                \"inspector_id\",\n",
    "                \"inspection_notes\",\n",
    "                \"change_timestamp\",\n",
    "                \"__START_AT\",\n",
    "                \"__END_AT\"\n",
    "            )\n",
    "            .withColumnRenamed(\"__START_AT\", \"valid_from\")\n",
    "            .withColumnRenamed(\"__END_AT\", \"valid_to\")\n",
    "            # Add business insights\n",
    "            .withColumn(\"compliance_duration_days\", \n",
    "                       expr(\"datediff(valid_to, valid_from)\"))\n",
    "            .withColumn(\"is_current_record\", \n",
    "                       expr(\"CASE WHEN valid_to IS NULL THEN 'True' ELSE 'False' END\"))\n",
    "            # Deduplicate based on valve_id, asset_id, and valid_from\n",
    "            .dropDuplicates([\"valve_id\", \"asset_id\", \"valid_from\"])\n",
    "    )"
   ]
  }
 ],
 "metadata": {
  "application/vnd.databricks.v1+notebook": {
   "computePreferences": null,
   "dashboards": [],
   "environmentMetadata": null,
   "inputWidgetPreferences": null,
   "language": "python",
   "notebookMetadata": {
    "pythonIndentUnit": 2
   },
   "notebookName": "Workshop-To-Do Solutions",
   "widgets": {}
  },
  "default_language": "python",
  "kernelspec": {
   "display_name": "Python 3",
   "language": "python",
   "name": "python3"
  },
  "language_info": {
   "name": "python"
  }
 },
 "nbformat": 4,
 "nbformat_minor": 0
}
